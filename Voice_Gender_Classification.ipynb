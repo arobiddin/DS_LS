{
  "nbformat": 4,
  "nbformat_minor": 0,
  "metadata": {
    "colab": {
      "private_outputs": true,
      "provenance": [],
      "gpuType": "T4",
      "authorship_tag": "ABX9TyNrk5TOKM68DXynbI6i8ajE"
    },
    "kernelspec": {
      "name": "python3",
      "display_name": "Python 3"
    },
    "language_info": {
      "name": "python"
    },
    "accelerator": "GPU"
  },
  "cells": [
    {
      "cell_type": "code",
      "execution_count": null,
      "metadata": {
        "id": "SLe_08cq-zdW"
      },
      "outputs": [],
      "source": [
        "! pip install datasets"
      ]
    },
    {
      "cell_type": "code",
      "source": [
        "import glob\n",
        "import os\n",
        "import pandas as pd\n",
        "import numpy as np\n",
        "import shutil\n",
        "import librosa\n",
        "from tqdm import tqdm\n",
        "from datasets import load_dataset\n",
        "from huggingface_hub import login\n",
        "from sklearn.model_selection import train_test_split\n",
        "from tensorflow.keras.callbacks import EarlyStopping\n",
        "from tensorflow.keras.models import Sequential\n",
        "from tensorflow.keras.layers import Dense, LSTM, Dropout"
      ],
      "metadata": {
        "id": "tRF_3kgn_Wz5"
      },
      "execution_count": null,
      "outputs": []
    },
    {
      "cell_type": "code",
      "source": [
        "login(token = token)"
      ],
      "metadata": {
        "id": "Rt3ImvWgL7FU"
      },
      "execution_count": null,
      "outputs": []
    },
    {
      "cell_type": "markdown",
      "source": [
        "## Dataset"
      ],
      "metadata": {
        "id": "BjCrS9ODWhGH"
      }
    },
    {
      "cell_type": "code",
      "source": [
        "dataset = load_dataset('mozilla-foundation/common_voice_13_0', 'uz', split = 'train+validation')"
      ],
      "metadata": {
        "id": "k43UEyttR1Dj"
      },
      "execution_count": null,
      "outputs": []
    },
    {
      "cell_type": "markdown",
      "source": [
        "## Data analyse"
      ],
      "metadata": {
        "id": "HFrILNO_WkvA"
      }
    },
    {
      "cell_type": "code",
      "source": [
        "df = dataset.to_pandas()"
      ],
      "metadata": {
        "id": "NCUnx0N5UhEc"
      },
      "execution_count": null,
      "outputs": []
    },
    {
      "cell_type": "code",
      "source": [
        "df.head()"
      ],
      "metadata": {
        "id": "riyhOmmcYgpe"
      },
      "execution_count": null,
      "outputs": []
    },
    {
      "cell_type": "code",
      "source": [
        "new_df = df[['path', 'gender']]"
      ],
      "metadata": {
        "id": "6dgJh4CSYleM"
      },
      "execution_count": null,
      "outputs": []
    },
    {
      "cell_type": "code",
      "source": [
        "new_df.head()"
      ],
      "metadata": {
        "id": "qqT3pSbpY27j"
      },
      "execution_count": null,
      "outputs": []
    },
    {
      "cell_type": "code",
      "source": [
        "new_df = new_df[(new_df['gender']=='male') | (new_df['gender']=='female')]"
      ],
      "metadata": {
        "id": "a52TvjHLY59z"
      },
      "execution_count": null,
      "outputs": []
    },
    {
      "cell_type": "code",
      "source": [
        "new_df.head()"
      ],
      "metadata": {
        "id": "et3HyyMhaer1"
      },
      "execution_count": null,
      "outputs": []
    },
    {
      "cell_type": "code",
      "source": [
        "male = new_df[new_df['gender']=='male']\n",
        "male"
      ],
      "metadata": {
        "id": "B_FWeNbIlYum"
      },
      "execution_count": null,
      "outputs": []
    },
    {
      "cell_type": "code",
      "source": [
        "female = new_df[new_df['gender']=='female']\n",
        "female"
      ],
      "metadata": {
        "id": "FS5GRYkZrEXz"
      },
      "execution_count": null,
      "outputs": []
    },
    {
      "cell_type": "code",
      "source": [
        "male = male.iloc[0:12000]"
      ],
      "metadata": {
        "id": "ub6QVmUZrISy"
      },
      "execution_count": null,
      "outputs": []
    },
    {
      "cell_type": "code",
      "source": [
        "female = female.append(male)\n",
        "female.shape"
      ],
      "metadata": {
        "id": "s0Si-MT4rnXo"
      },
      "execution_count": null,
      "outputs": []
    },
    {
      "cell_type": "code",
      "source": [
        "female.iloc[20002].path"
      ],
      "metadata": {
        "id": "c4nTocJ2r0_X"
      },
      "execution_count": null,
      "outputs": []
    },
    {
      "cell_type": "code",
      "source": [
        "def extract_feature(file_name):\n",
        "  X, sample_rate = librosa.core.load(file_name)\n",
        "  result = np.array([])\n",
        "  mel = np.mean(librosa.feature.melspectrogram(y = X, sr=sample_rate).T, axis=0)\n",
        "  result = np.hstack((result,mel))\n",
        "\n",
        "  return result"
      ],
      "metadata": {
        "id": "BMP3sdUSigqe"
      },
      "execution_count": null,
      "outputs": []
    },
    {
      "cell_type": "code",
      "source": [
        "dirname = 'data'"
      ],
      "metadata": {
        "id": "hEj8c9xOig8n"
      },
      "execution_count": null,
      "outputs": []
    },
    {
      "cell_type": "code",
      "source": [
        "if not os.path.isdir(dirname):\n",
        "  os.mkdir(dirname)"
      ],
      "metadata": {
        "id": "uE6iUU7djl0Q"
      },
      "execution_count": null,
      "outputs": []
    },
    {
      "cell_type": "code",
      "source": [
        "female.to_csv(\"common_voice_uz.csv\", index=False)\n"
      ],
      "metadata": {
        "id": "owFvvSLFjl4G"
      },
      "execution_count": null,
      "outputs": []
    },
    {
      "cell_type": "code",
      "source": [
        "folder_name = \"/root/.cache/huggingface/datasets/downloads/extracted/fbd7acc8601b294a139eddae148d842e1e608fedb3f908e9ffa20843ace27515/uz_train_0/\"\n",
        "audio_files = glob.glob(f\"{folder_name}*\")\n",
        "all_audio_filename = set(female[\"path\"])"
      ],
      "metadata": {
        "id": "Y32U7R_2jl7D"
      },
      "execution_count": null,
      "outputs": []
    },
    {
      "cell_type": "markdown",
      "source": [],
      "metadata": {
        "id": "RnrJKj2HllAB"
      }
    },
    {
      "cell_type": "code",
      "source": [
        "len(all_audio_filename)"
      ],
      "metadata": {
        "id": "2rPqOrF4jl9q"
      },
      "execution_count": null,
      "outputs": []
    },
    {
      "cell_type": "code",
      "source": [
        "for i, audio_file in tqdm(list(enumerate(audio_files)), f\"Extracting features of {folder_name}\"):\n",
        "    splited = os.path.split(audio_file)\n",
        "    # audio_filename = os.path.join(os.path.split(splited[0])[-1], splited[-1])\n",
        "    audio_filename = f\"{os.path.split(splited[0])[-1]}/{splited[-1]}\"\n",
        "    # print(\"audio_filename:\", audio_filename)\n",
        "    audio_filename = audio_filename.split(\"/\")[-1]\n",
        "\n",
        "    # print(\"Copyying\", audio_filename, \"...\")\n",
        "    src_path = f\"{folder_name}/{audio_filename}\"\n",
        "    target_path = f\"{dirname}/{audio_filename}\"\n",
        "    #create that folder if it doesn't exist\n",
        "    if not os.path.isdir(os.path.dirname(target_path)):\n",
        "        os.mkdir(os.path.dirname(target_path))\n",
        "    features = extract_feature(src_path)\n",
        "    target_filename = target_path.split(\".\")[0]\n",
        "    np.save(target_filename, features)"
      ],
      "metadata": {
        "id": "9Uy3rPjilDt2"
      },
      "execution_count": null,
      "outputs": []
    },
    {
      "cell_type": "code",
      "source": [
        "!unzip results.zip"
      ],
      "metadata": {
        "id": "duIKyiuFlUl0"
      },
      "execution_count": null,
      "outputs": []
    },
    {
      "cell_type": "code",
      "source": [
        "def load_data(vector_length=128):\n",
        "  if not os.path.isdir(\"results\"):\n",
        "    print(\"Results directory not found, please run the preprocessing script first.\")\n",
        "    return None, None\n",
        "\n",
        "  # if features & labels already loaded individually and bundled, load them from there instead\n",
        "  if os.path.isfile(\"results/features.npy\") and os.path.isfile(\"results/labels.npy\"):\n",
        "    X = np.load(\"results/features.npy\")\n",
        "    y = np.load(\"results/labels.npy\")\n",
        "    return X, y"
      ],
      "metadata": {
        "id": "4dbURHSHBFqT"
      },
      "execution_count": null,
      "outputs": []
    },
    {
      "cell_type": "code",
      "source": [
        "X, y = load_data()"
      ],
      "metadata": {
        "id": "DsJVKpMiBFtF"
      },
      "execution_count": null,
      "outputs": []
    },
    {
      "cell_type": "code",
      "source": [
        "print(X)\n",
        "print('\\n',y)"
      ],
      "metadata": {
        "id": "myAnuBO1BFvy"
      },
      "execution_count": null,
      "outputs": []
    },
    {
      "cell_type": "code",
      "source": [
        "print(len(X), len(y))"
      ],
      "metadata": {
        "id": "Q9Ktz6ZuBFzJ"
      },
      "execution_count": null,
      "outputs": []
    },
    {
      "cell_type": "code",
      "source": [
        "def split_data(X, y, test_size=0.1, valid_size=0.1):\n",
        "  # split training set and testing set\n",
        "  X_train, X_test, y_train, y_test = train_test_split(X, y, test_size=test_size, random_state=7)\n",
        "  # split training set andvalidation set\n",
        "  X_train, X_valid, y_train, y_valid = train_test_split(X_train, y_train, test_size=valid_size, random_state=7)\n",
        "  # return dictionary of values\n",
        "  return {\n",
        "      \"X_train\":X_train,\n",
        "      \"X_valid\":X_valid,\n",
        "      \"X_test\":X_test,\n",
        "      \"y_train\":y_train,\n",
        "      \"y_valid\":y_valid,\n",
        "      \"y_test\":y_test\n",
        "  }"
      ],
      "metadata": {
        "id": "ZCbc_ljUFNn8"
      },
      "execution_count": null,
      "outputs": []
    },
    {
      "cell_type": "code",
      "source": [
        "data = split_data(X, y, test_size=0.1, valid_size=0.1)\n",
        "data"
      ],
      "metadata": {
        "id": "8E8KBLlCFNr-"
      },
      "execution_count": null,
      "outputs": []
    },
    {
      "cell_type": "markdown",
      "source": [
        "## Training"
      ],
      "metadata": {
        "id": "ZeEGw3lxLYN0"
      }
    },
    {
      "cell_type": "code",
      "source": [
        "model = Sequential()\n",
        "model.add(Dense(226, input_shape=(128,)))\n",
        "model.add(Dropout(0.3))\n",
        "model.add(Dense(256, activation=\"relu\"))\n",
        "model.add(Dropout(0.3))\n",
        "model.add(Dense(128, activation=\"relu\"))\n",
        "model.add(Dropout(0.3))\n",
        "model.add(Dense(128, activation=\"relu\"))\n",
        "model.add(Dropout(0.3))\n",
        "model.add(Dense(64, activation=\"relu\"))\n",
        "model.add(Dropout(0.3))\n",
        "\n",
        "#one output neuron with sigmoid activation function, 0 means female, 1 means male\n",
        "model.add(Dense(1, activation=\"sigmoid\"))\n",
        "\n"
      ],
      "metadata": {
        "id": "N8BJRHWcFN0a"
      },
      "execution_count": null,
      "outputs": []
    },
    {
      "cell_type": "code",
      "source": [
        "# using binary crossentropy as it's male/female classification (binary)\n",
        "model.compile(loss=\"binary_crossentropy\", metrics=[\"accuracy\"], optimizer=\"adam\")\n",
        "# print summary of model\n",
        "model.summary()"
      ],
      "metadata": {
        "id": "Eio6msk7FN3C"
      },
      "execution_count": null,
      "outputs": []
    },
    {
      "cell_type": "code",
      "source": [
        "batch_size = 64\n",
        "epochs = 100"
      ],
      "metadata": {
        "id": "cHi6IcgDFN4Q"
      },
      "execution_count": null,
      "outputs": []
    },
    {
      "cell_type": "code",
      "source": [
        "# EarlyStopping-bu o'qitayotgan modelimizning aniqli ma'lum qiymatdan keyin o'zishdan to'xtasa modelni o'qitishni to'xtatadi\n",
        "#early_stopping = EarlyStopping(mode=\"min\", patience=5, restore_best_weights=True)"
      ],
      "metadata": {
        "id": "YXk01qOyTD08"
      },
      "execution_count": null,
      "outputs": []
    },
    {
      "cell_type": "code",
      "source": [
        "model.fit(data[\"X_train\"], data[\"y_train\"], epochs=epochs, batch_size=batch_size, validation_data=(data[\"X_valid\"], data[\"y_valid\"]))"
      ],
      "metadata": {
        "id": "zPYzrRxWFN55"
      },
      "execution_count": null,
      "outputs": []
    },
    {
      "cell_type": "code",
      "source": [
        "model.save(\"results/model.h5\")"
      ],
      "metadata": {
        "id": "vIkXQuwAFN9C"
      },
      "execution_count": null,
      "outputs": []
    }
  ]
}