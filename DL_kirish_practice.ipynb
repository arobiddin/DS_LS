{
  "nbformat": 4,
  "nbformat_minor": 0,
  "metadata": {
    "colab": {
      "private_outputs": true,
      "provenance": [],
      "gpuType": "T4",
      "authorship_tag": "ABX9TyOhMqrbU5we8rtVXWDXBnSC",
      "include_colab_link": true
    },
    "kernelspec": {
      "name": "python3",
      "display_name": "Python 3"
    },
    "language_info": {
      "name": "python"
    },
    "accelerator": "GPU"
  },
  "cells": [
    {
      "cell_type": "markdown",
      "metadata": {
        "id": "view-in-github",
        "colab_type": "text"
      },
      "source": [
        "<a href=\"https://colab.research.google.com/github/arobiddin/DS_LS/blob/main/DL_kirish_practice.ipynb\" target=\"_parent\"><img src=\"https://colab.research.google.com/assets/colab-badge.svg\" alt=\"Open In Colab\"/></a>"
      ]
    },
    {
      "cell_type": "code",
      "execution_count": null,
      "metadata": {
        "id": "EAthepFyf34X"
      },
      "outputs": [],
      "source": [
        "import torch\n",
        "import fastai"
      ]
    },
    {
      "cell_type": "code",
      "source": [
        "print(fastai.__version__)\n",
        "print(torch.__version__)"
      ],
      "metadata": {
        "id": "OLWkAJVV5PKF"
      },
      "execution_count": null,
      "outputs": []
    },
    {
      "cell_type": "code",
      "source": [
        "from fastai.vision.all import *\n",
        "from ipywidgets import widgets"
      ],
      "metadata": {
        "id": "4jscmramZsYb"
      },
      "execution_count": null,
      "outputs": []
    },
    {
      "cell_type": "code",
      "source": [
        "!git clone https://github.com/EscVM/OIDv4_ToolKit.git"
      ],
      "metadata": {
        "id": "c1derv0oZ4DC"
      },
      "execution_count": null,
      "outputs": []
    },
    {
      "cell_type": "code",
      "source": [
        "!cd OIDv4_ToolKit && pip install -r requirements.txt"
      ],
      "metadata": {
        "id": "Pk9CHKikZ84b"
      },
      "execution_count": null,
      "outputs": []
    },
    {
      "cell_type": "code",
      "source": [
        "!cd OIDv4_ToolKit && python main.py -h"
      ],
      "metadata": {
        "id": "jpf6NlOXZ_pP"
      },
      "execution_count": null,
      "outputs": []
    },
    {
      "cell_type": "code",
      "source": [
        "!cd OIDv4_ToolKit && python3 main.py downloader --Dataset /content --classes Football Tennis_ball --type_csv train --limit 200 --yes"
      ],
      "metadata": {
        "id": "HVEy0d6RhI_8"
      },
      "execution_count": null,
      "outputs": []
    },
    {
      "cell_type": "markdown",
      "source": [],
      "metadata": {
        "id": "wkvYsCyUhLIq"
      }
    },
    {
      "cell_type": "code",
      "source": [
        "path = Path('/content/train')\n",
        "# path.ls()\n",
        "\n",
        "#fls = get_image_files(path)\n",
        "#fls\n",
        "\n",
        "# failed = verify_images(path) # xato yuklangan rasmlarni aniqlaydi.\n",
        "# failed\n",
        "\n",
        "# DataBlock tuzamiz\n",
        "transports = DataBlock(\n",
        "    blocks=(ImageBlock, CategoryBlock),\n",
        "    get_items = get_image_files,\n",
        "    splitter = RandomSplitter(valid_pct=0.2, seed=42),\n",
        "    get_y = parent_label,\n",
        "    item_tfms = Resize(224)\n",
        ")\n",
        "\n",
        "# Dataloader yaratamiz\n",
        "dsl = transports.dataloaders(path)\n",
        "\n",
        "# Datasetni tekshirish\n",
        "#dsl.train.show_batch(max_n=32, nrows=4) # 32 rasmlarni yorliqlari bilan 4 qatrga chiqaradi\n",
        "\n",
        "learn = cnn_learner(dsl, resnet34, metrics=accuracy)\n",
        "learn.fine_tune(4)"
      ],
      "metadata": {
        "id": "7EdNsf3Aa2sF"
      },
      "execution_count": null,
      "outputs": []
    },
    {
      "cell_type": "code",
      "source": [
        "# modelni tekshirish\n",
        "interp = ClassificationInterpretation.from_learner(learn)\n",
        "interp.plot_confusion_matrix()"
      ],
      "metadata": {
        "id": "Iy-z1hfTeun7"
      },
      "execution_count": null,
      "outputs": []
    },
    {
      "cell_type": "code",
      "source": [
        "interp.plot_top_losses(5, nrows=1)"
      ],
      "metadata": {
        "id": "oQALVKTEfPmO"
      },
      "execution_count": null,
      "outputs": []
    },
    {
      "cell_type": "code",
      "source": [
        "upload = widgets.FileUpload()\n",
        "upload"
      ],
      "metadata": {
        "id": "VnIUgAPUfUB4"
      },
      "execution_count": null,
      "outputs": []
    },
    {
      "cell_type": "code",
      "source": [
        "img = PILImage.create(upload.data[0])\n",
        "pred, pred_id, probs = learn.predict(img)\n",
        "print(f'Bashorat: {pred}')\n",
        "print(f'Ehtimollik: {probs[pred_id]*100:.1f}%')\n",
        "img"
      ],
      "metadata": {
        "id": "jsekAgNTfVGr"
      },
      "execution_count": null,
      "outputs": []
    },
    {
      "cell_type": "code",
      "source": [
        "learn.export('balls_classifier_model.pkl')"
      ],
      "metadata": {
        "id": "x7S5sCcZfVL3"
      },
      "execution_count": null,
      "outputs": []
    },
    {
      "cell_type": "code",
      "source": [
        "model = load_learner('/content/balls_classifier_model.pkl')"
      ],
      "metadata": {
        "id": "l8c7R7q2fVUa"
      },
      "execution_count": null,
      "outputs": []
    },
    {
      "cell_type": "code",
      "source": [
        "img = PILImage.create(upload.data[0])\n",
        "pred, pred_id, probs = model.predict(img)\n",
        "print(f'Bashorat: {pred}')\n",
        "print(f'Ehtimollik: {probs[pred_id]*100:.1f}%')\n",
        "img"
      ],
      "metadata": {
        "id": "gv4Za3U0neGv"
      },
      "execution_count": null,
      "outputs": []
    },
    {
      "cell_type": "code",
      "source": [],
      "metadata": {
        "id": "UhtBdBa9nj_v"
      },
      "execution_count": null,
      "outputs": []
    }
  ]
}