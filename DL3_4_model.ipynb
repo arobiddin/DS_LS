{
  "nbformat": 4,
  "nbformat_minor": 0,
  "metadata": {
    "colab": {
      "private_outputs": true,
      "provenance": [],
      "gpuType": "T4",
      "authorship_tag": "ABX9TyOZ1P70UDab8mkp3R5ZQMdU",
      "include_colab_link": true
    },
    "kernelspec": {
      "name": "python3",
      "display_name": "Python 3"
    },
    "language_info": {
      "name": "python"
    },
    "accelerator": "GPU"
  },
  "cells": [
    {
      "cell_type": "markdown",
      "metadata": {
        "id": "view-in-github",
        "colab_type": "text"
      },
      "source": [
        "<a href=\"https://colab.research.google.com/github/arobiddin/DS_LS/blob/main/DL3_4_model.ipynb\" target=\"_parent\"><img src=\"https://colab.research.google.com/assets/colab-badge.svg\" alt=\"Open In Colab\"/></a>"
      ]
    },
    {
      "cell_type": "markdown",
      "source": [
        "# NLP\n",
        "## Movie reviews classification model"
      ],
      "metadata": {
        "id": "5li3mOiCXnV4"
      }
    },
    {
      "cell_type": "markdown",
      "source": [
        "IMDB dataset having 50K movie reviews for natural language processing or Text analytics.\n",
        "This is a dataset for binary sentiment classification containing substantially more data than previous benchmark datasets. We provide a set of 25,000 highly polar movie reviews for training and 25,000 for testing. So, predict the number of positive and negative reviews using either classification or deep learning algorithms.\n",
        "For more dataset information, please go through the following link,\n",
        "http://ai.stanford.edu/~amaas/data/sentiment/"
      ],
      "metadata": {
        "id": "l69ta4CefJCv"
      }
    },
    {
      "cell_type": "code",
      "execution_count": null,
      "metadata": {
        "id": "AwxGVTWhB-9F"
      },
      "outputs": [],
      "source": [
        "#libraries\n",
        "import fastai\n",
        "import torch\n",
        "import pickle\n",
        "from fastai.text.all import *"
      ]
    },
    {
      "cell_type": "markdown",
      "source": [
        "### IMDB Dataset"
      ],
      "metadata": {
        "id": "rXeV9tiVX8iG"
      }
    },
    {
      "cell_type": "code",
      "source": [
        "# dataset\n",
        "path = untar_data(URLs.IMDB)\n",
        "\n",
        "path.ls()"
      ],
      "metadata": {
        "id": "4Xirdo_cCIBM"
      },
      "execution_count": null,
      "outputs": []
    },
    {
      "cell_type": "markdown",
      "source": [
        "### Training\n",
        "\n"
      ],
      "metadata": {
        "id": "Fhjvh3A1YnAR"
      }
    },
    {
      "cell_type": "code",
      "source": [
        "# dataloaders\n",
        "dls = TextDataLoaders.from_folder(path, train='train', valid = 'test')"
      ],
      "metadata": {
        "id": "7UdLMa1VCMv5"
      },
      "execution_count": null,
      "outputs": []
    },
    {
      "cell_type": "code",
      "source": [
        "learn = text_classifier_learner(dls, AWD_LSTM, drop_mult=0.5, metrics=accuracy)\n",
        "learn.fine_tune(4, 0.01)"
      ],
      "metadata": {
        "id": "nZ30kygSCMtc"
      },
      "execution_count": null,
      "outputs": []
    },
    {
      "cell_type": "markdown",
      "source": [
        "**Testing**"
      ],
      "metadata": {
        "id": "H3tn-NfddDRy"
      }
    },
    {
      "cell_type": "code",
      "source": [
        "learn.predict(\"OMG!\")"
      ],
      "metadata": {
        "id": "18UQVBEvCMq8"
      },
      "execution_count": null,
      "outputs": []
    },
    {
      "cell_type": "markdown",
      "source": [
        "**“Pickling”**"
      ],
      "metadata": {
        "id": "zSIm-tUsdEu9"
      }
    },
    {
      "cell_type": "code",
      "source": [
        "pickle.dump(learn, open('comment1_cfr.pkl', 'wb'))"
      ],
      "metadata": {
        "id": "so0wED66O6Dw"
      },
      "execution_count": null,
      "outputs": []
    },
    {
      "cell_type": "code",
      "source": [],
      "metadata": {
        "id": "LiPFexq7SVZj"
      },
      "execution_count": null,
      "outputs": []
    }
  ]
}